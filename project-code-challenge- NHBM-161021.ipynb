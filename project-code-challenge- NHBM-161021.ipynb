{
 "cells": [
  {
   "cell_type": "markdown",
   "metadata": {},
   "source": [
    "<img src=\"http://imgur.com/1ZcRyrc.png\" style=\"float: left; margin: 20px; height: 55px\">\n",
    "\n",
    "# Project 1: Python Coding Exercises\n",
    "\n",
    "_Authors: Joseph Nelson (DC) _\n",
    "\n",
    "---"
   ]
  },
  {
   "cell_type": "markdown",
   "metadata": {},
   "source": [
    "The following code challenges are drawn from common exercises used in technical interviews.\n",
    "\n",
    "Please note that there may be several ways to approach each challenge. If you get stuck, try mapping out your approach in pseudocode first. Finally, while solutions to problems like these may be found online, remember that if you copy/paste code that you can't explain, you'll be missing out on the point of the project. The only way to truly learn a new skill is through practice, trial, and error - we can only help you improve by understanding where you are having trouble."
   ]
  },
  {
   "cell_type": "markdown",
   "metadata": {},
   "source": [
    "### Challenge 1: Largest Palindrome\n",
    "A palindromic number reads the same both ways. For example, 1234321 is a palindrome. The largest palindrome made from the product of two two-digit numbers is 9009 = 91 × 99. Find the largest palindrome made from the product of two three-digit numbers. Afterward, write a brief explanation walking through your code's logic in markdown."
   ]
  },
  {
   "cell_type": "code",
   "execution_count": 36,
   "metadata": {},
   "outputs": [
    {
     "name": "stdout",
     "output_type": "stream",
     "text": [
      "906609\n"
     ]
    }
   ],
   "source": [
    "n = 0\n",
    "for a in range(999, 100, -1):# We start to iterate the list of numbers starting with 999 down to 100.\n",
    "    for b in range(a, 100, -1):# We start to iterate the list of numbers starting with 100\n",
    "        x = a * b\n",
    "        if x > n: # If value of x is bigger than n, below command is executed\n",
    "            s = str(a * b) # Assign x operation to s variable to change it to String data type so that reverse can be done.\n",
    "            if s == s[::-1]: # to check if the list is a palindrome or not using str[::-1] == s\n",
    "                n = a * b #Store a*b operation to n variable and print n variable to get the result.\n",
    "print(n)"
   ]
  },
  {
   "cell_type": "code",
   "execution_count": 35,
   "metadata": {},
   "outputs": [
    {
     "name": "stdout",
     "output_type": "stream",
     "text": [
      "906609\n"
     ]
    }
   ],
   "source": [
    "def isPalidrome(num):\n",
    "    return str(num) == str(num)[::-1] # to check if the list is a palindrome or not using str[::-1] == s, i.e. a negative step for the slice operator. \n",
    "def largest(bot, top): # find largest number in the list of number \n",
    "    c = 0 # Assign variable c = 0 (c starts with 0 value)\n",
    "    for a in range(top, bot, -1): # We start to iterate the list of numbers to get the top number of a which is 999 and reverse it back. \n",
    "        for b in range(top,bot, -1):# We start to iterate the list of numbers to get the top number of b which is 100 and reverse it back. \n",
    "            if isPalindrome(a*b):\n",
    "                if a*b > c: # If value of a*b is bigger than c, below command is executed\n",
    "                    c = a*b # c = multiplication of two 3-digit numbers where in our case is 100 and 999 from the list range\n",
    "    return c\n",
    "\n",
    "print (largest(100,999))"
   ]
  },
  {
   "cell_type": "markdown",
   "metadata": {},
   "source": [
    "\n",
    "### Challenge 2: Summation of Primes\n",
    "The sum of the primes below 10 is 2 + 3 + 5 + 7 = 17. Find the sum of all the primes below 2,000. Afterward, write a brief explanation walking through your code's logic in markdown."
   ]
  },
  {
   "cell_type": "code",
   "execution_count": 12,
   "metadata": {},
   "outputs": [
    {
     "name": "stdout",
     "output_type": "stream",
     "text": [
      "Sum of prime numbers below 2000: 277050\n"
     ]
    }
   ],
   "source": [
    "#set total to zero 1st\n",
    "total=0\n",
    "\n",
    "#iterates number until 2000\n",
    "for num in range(1,2000):\n",
    "    count=0; #assign count as 0 in the beginning\n",
    "    #check prime numbers\n",
    "    for i in range(2, num):\n",
    "        if(num%i==0): #if the number has zero remainder, the loop will break or exit.\n",
    "          count =count+1\n",
    "          break\n",
    "    if(count==0 and num !=1): \n",
    "        total=total+num\n",
    "#print the sum of prime numbers below 2000 and its total.        \n",
    "print('Sum of prime numbers below 2000:', total)\n"
   ]
  },
  {
   "cell_type": "markdown",
   "metadata": {},
   "source": [
    "### Challenge 3: Multiples of 3 and 5\n",
    "If we list all of the natural numbers below 10 that are multiples of 3 or 5, we get 3, 5, 6, and 9. The sum of these multiples is 23. Find the sum of all the multiples of 3 and 5 below 1,000. Afterward, write a brief explanation walking through your code's logic in markdown."
   ]
  },
  {
   "cell_type": "code",
   "execution_count": 37,
   "metadata": {},
   "outputs": [
    {
     "name": "stdout",
     "output_type": "stream",
     "text": [
      "233168\n"
     ]
    }
   ],
   "source": [
    "total_num = 0\n",
    "for i in range(1000):#iterate the numbers with range 1000\n",
    "    if (i%3 == 0 or i%5 == 0): # check if the number in range 1000 is divisible by 3 or 5 \n",
    "        total_num += i #add multiple number of three and five\n",
    "        \n",
    "print (total_num) #print total numbers of multiples of 3 and 5 below 1,000"
   ]
  },
  {
   "cell_type": "markdown",
   "metadata": {},
   "source": [
    "### Challenge 4: String Compressor\n",
    "Implement a method to perform basic string compression using the counts of repeated characters. (This is called run-length encoding.) For example, the string \"aabcccccaaa\" would become a2b1c5a3. If the “compressed” string would not become smaller than the original string, your method should return the original string. You can assume the string has only uppercase and lowercase letters (a–z). Specify whether your solution is case sensitive or case insensitive and what you would need to change to make it the other. Afterward, write a brief explanation walking through your code's logic in markdown."
   ]
  },
  {
   "cell_type": "code",
   "execution_count": 17,
   "metadata": {},
   "outputs": [
    {
     "name": "stdout",
     "output_type": "stream",
     "text": [
      "he5l4o3wo2r3ld\n"
     ]
    }
   ],
   "source": [
    "def compress(string): #define a compress function with String value\n",
    "    index = 0 #start the index with value of 0\n",
    "    compressed = \"\" # Assign compressed to an empty value. Later string will be stored in this variable or empty value\n",
    "    len_str = len(string) # measure the length of the string\n",
    "    \n",
    "    while index != len_str:# loop through the index whenever its value is not equal to len_str\n",
    "        count = 1 # start the count with value of 1 \n",
    "        while (index < len_str-1) and (string[index] == string[index+1]): #loop through the index when the index value is less than the len_str-1 and string[index] is equal to string[index +1]\n",
    "            count = count + 1 #continue to count during the looping\n",
    "            index = index + 1 #continue to index during the looping\n",
    "        if count == 1: #if the count is 1 , the index will be compressed to string\n",
    "            compressed += str(string[index])\n",
    "        else:\n",
    "            compressed += str(string[index]) + str(count) #if the count is not 1 , the index will be compressed to string + and added to compprssed andto count the second string \n",
    "        index = index + 1 #continue to index during the looping\n",
    "    return compressed #compressed value is returned\n",
    "       \n",
    " \n",
    "string = \"heeeeellllooowoorrrld\"\n",
    "print(compress(string))\n"
   ]
  },
  {
   "cell_type": "markdown",
   "metadata": {},
   "source": [
    "### *BONUS* Challenge: FizzBuzz\n",
    "Write a program that prints all of the numbers from 1 to 100. For multiples of 3, instead of the number, print \"Fizz;\" for multiples of 5, print \"Buzz.\" For numbers that are multiples of both 3 and 5, print \"FizzBuzz.\" Afterward, write a brief explanation walking through your code's logic in markdown."
   ]
  },
  {
   "cell_type": "code",
   "execution_count": 38,
   "metadata": {},
   "outputs": [
    {
     "name": "stdout",
     "output_type": "stream",
     "text": [
      "1\n",
      "2\n",
      "Fizz\n",
      "4\n",
      "Buzz\n",
      "Fizz\n",
      "7\n",
      "8\n",
      "Fizz\n",
      "Buzz\n",
      "11\n",
      "Fizz\n",
      "13\n",
      "14\n",
      "FizzBuzz\n",
      "16\n",
      "17\n",
      "Fizz\n",
      "19\n",
      "Buzz\n",
      "Fizz\n",
      "22\n",
      "23\n",
      "Fizz\n",
      "Buzz\n",
      "26\n",
      "Fizz\n",
      "28\n",
      "29\n",
      "FizzBuzz\n",
      "31\n",
      "32\n",
      "Fizz\n",
      "34\n",
      "Buzz\n",
      "Fizz\n",
      "37\n",
      "38\n",
      "Fizz\n",
      "Buzz\n",
      "41\n",
      "Fizz\n",
      "43\n",
      "44\n",
      "FizzBuzz\n",
      "46\n",
      "47\n",
      "Fizz\n",
      "49\n",
      "Buzz\n",
      "Fizz\n",
      "52\n",
      "53\n",
      "Fizz\n",
      "Buzz\n",
      "56\n",
      "Fizz\n",
      "58\n",
      "59\n",
      "FizzBuzz\n",
      "61\n",
      "62\n",
      "Fizz\n",
      "64\n",
      "Buzz\n",
      "Fizz\n",
      "67\n",
      "68\n",
      "Fizz\n",
      "Buzz\n",
      "71\n",
      "Fizz\n",
      "73\n",
      "74\n",
      "FizzBuzz\n",
      "76\n",
      "77\n",
      "Fizz\n",
      "79\n",
      "Buzz\n",
      "Fizz\n",
      "82\n",
      "83\n",
      "Fizz\n",
      "Buzz\n",
      "86\n",
      "Fizz\n",
      "88\n",
      "89\n",
      "FizzBuzz\n",
      "91\n",
      "92\n",
      "Fizz\n",
      "94\n",
      "Buzz\n",
      "Fizz\n",
      "97\n",
      "98\n",
      "Fizz\n",
      "Buzz\n"
     ]
    }
   ],
   "source": [
    "for num in range(1, 101):                # Loop through list of numbers from 1 to 100; num = number in the list\n",
    "    if num%3 == 0 and num%5 == 0:        # Check if num is divisible by both 3 and 5\n",
    "        print('FizzBuzz')                     ## If yes, display 'FizzBuzz'\n",
    "    elif num%3 == 0:                     # If no, check if num is divisible by 3\n",
    "        print('Fizz')                         ## If yes (is divisible by 3), display 'Fizz'\n",
    "    elif num%5 == 0:                     # If no, check if num is divisible by 5\n",
    "        print('Buzz')                          ## If yes (is divisible by 5), display 'Buzz'\n",
    "    else:                                # If num did not fulfill any of the condition stated above,\n",
    "        print(num)                              ## Display num\n"
   ]
  },
  {
   "cell_type": "code",
   "execution_count": null,
   "metadata": {},
   "outputs": [],
   "source": []
  }
 ],
 "metadata": {
  "anaconda-cloud": {},
  "kernelspec": {
   "display_name": "Python 3",
   "language": "python",
   "name": "python3"
  },
  "language_info": {
   "codemirror_mode": {
    "name": "ipython",
    "version": 3
   },
   "file_extension": ".py",
   "mimetype": "text/x-python",
   "name": "python",
   "nbconvert_exporter": "python",
   "pygments_lexer": "ipython3",
   "version": "3.8.8"
  }
 },
 "nbformat": 4,
 "nbformat_minor": 2
}
